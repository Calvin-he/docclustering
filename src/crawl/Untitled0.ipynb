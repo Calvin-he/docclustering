{
 "metadata": {
  "name": "Untitled0"
 },
 "nbformat": 3,
 "nbformat_minor": 0,
 "worksheets": [
  {
   "cells": [
    {
     "cell_type": "code",
     "collapsed": false,
     "input": [
      "import numpy as np\n",
      "import matplotlib.pyplot as plt\n",
      "import matplotlib as mpl\n",
      "mpl.rcParams['font.sans-serif'] = ['WenQuanYi Zen Hei'] \n",
      "mpl.rcParams['axes.unicod\n",
      "e_minus'] = False\n",
      "rc('font', **{'family':'WenQuanYi Zen Hei'})\n",
      "#rc('text',usetex=False)\n",
      "print mpl.get_configdir()\n",
      "\n",
      "dtype = np.dtype([('ndocs','i4'),('time','f4')])\n",
      "data = np.loadtxt('time.log', dtype=dtype, skiprows=1)\n",
      "x,y = data['ndocs'],data['time']\n",
      "plt.plot(x,y,\"ro\")\n",
      "plt.xlabel(u'#\u6587\u672c\u6570')\n",
      "plt.ylabel(u'\u8fd0\u884c\u65f6\u95f4')\n",
      "\n",
      "x2 = np.arange(min(x)-1,max(x)+1,1)\n",
      "c = np.polyfit(x,y,2)\n",
      "y2= np.polyval(c,x2)\n",
      "plt.plot(x2,y2, label=u'deg=2')\n",
      "plt.legend(loc='upper left')\n",
      "plt.show()"
     ],
     "language": "python",
     "outputs": [
      {
       "output_type": "stream",
       "stream": "stdout",
       "text": [
        "/home/cs/.matplotlib\n"
       ]
      }
     ],
     "prompt_number": 92
    }
   ]
  }
 ]
}